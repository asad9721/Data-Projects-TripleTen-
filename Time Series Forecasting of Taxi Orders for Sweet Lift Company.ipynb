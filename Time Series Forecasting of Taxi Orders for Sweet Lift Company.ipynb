{
 "cells": [
  {
   "cell_type": "markdown",
   "metadata": {},
   "source": [
    "<div style=\"border: 5px solid purple; padding: 15px; margin: 5px\">\n",
    "<b> Reviewer's comment 4</b>\n",
    "\n",
    "> Hi Reviewer,\n",
    "\n",
    "> I’ve taken the time to clean up my code, as I had tried multiple rounds of hyperparameter tuning, and the RMSE consistently remained above 48. To meet the project requirement, I explored different models and ultimately used an ensemble approach to improve performance.\n",
    "\n",
    "> It’s possible that during these iterations, some of your earlier comments may have been overwritten or misplaced in the code. I kindly ask you to review my project again and let me know if there are any remaining changes needed.\n",
    "\n",
    "> I'm happy to report that in the end, I achieved the project requirement — the final RMSE is now below 48.\n",
    "\n",
    "> Thank you for your guidance and support!\n",
    "\n",
    "\n",
    "    \n",
    "Understood! :) Thank you for the updates! You did an awesome job here, I am very glad to see the results! There's a thing that can be improved, I explained it in one of my new comments with digit 4. However, everything is great, and I can accept the project now. \n",
    "\n",
    "\n",
    "\n",
    "As I said, you did an excellent job here. It is usually quite important to achieve a strong performance metric on the test (hold-out) subset because it gives us an estimate of how well the model will perform on unseen data, which closely reflects real-world scenarios. In real-life applications, models are expected to deliver both high-quality predictions and fast responses. These requirements directly impact user experience, business decisions, and system efficiency. This is why we learn it here.\n",
    "\n",
    "\n",
    "That is why, during model development, we don't just focus on training performance. We constantly tune hyperparameters and evaluate the model on the test sets to ensure it generalizes well. Hyperparameter tuning helps strike the right balance between underfitting and overfitting,with the ultimate goal being a model that performs reliably on future, unseen data. Achieving good metrics on a hold-out set is not just a theoretical exercise. It's actually a practical necessity for deploying robust, effective models in production. So I am very glad to see you put a lot of effort here. I also see your deligence and desire to become a seasoned data scientist. It's great! \n",
    "\n",
    "    \n",
    "    \n",
    "If you are interested in this topic, please take a look at the small [Time Series Course](https://www.kaggle.com/learn/time-series) on Kaggle. There are just several lessons there, and in the end of this course you will apply your knowledge on the sales dataset that is provided for the ongoing [Store Sales Time Series Forecasting Competition](https://www.kaggle.com/competitions/store-sales-time-series-forecasting) with no rewards except for knowledge :) You can use their dataset for your practice and you can submit your notebook to run the model on the hidden test subset.  \n",
    "\n",
    "\n",
    "I also recommend the [Prophet](https://facebook.github.io/prophet/docs/quick_start.html) library developed by Meta. It's a really great tool for working with time series. \n",
    "    \n",
    "    \n",
    "Congratulations and good luck! \n",
    "    \n",
    "</div>"
   ]
  },
  {
   "cell_type": "markdown",
   "metadata": {},
   "source": [
    "<div style=\"border: 5px solid purple; padding: 15px; margin: 5px\">\n",
    "<b> Reviewer's comment 3</b>\n",
    "\n",
    "\n",
    "You almost finished it, great job! My new comments have digit 3. There is only one issue this time. So you have successfully trained and compared several models. According to the results, LightGBM is the best model, as it has the lowest *validation* RMSE. Now, let's take this model and make predictions on the test subset, thus conducting the so-called final test. Here we have to meet the project's requirement and get RMSE of no more than 48. If the model does not show such a metric on the test subset, please tune more hyperparameters *on validation subset in the previous section*. \n",
    "\n",
    "\n",
    "Please feel free to ask quesitons if you have any :) I am here to help 😉\n",
    "</div> \n",
    "\n",
    "Hi Reviewer,\n",
    "\n",
    "I’ve taken the time to clean up my code, as I had tried multiple rounds of hyperparameter tuning, and the RMSE consistently remained above 48. To meet the project requirement, I explored different models and ultimately used an ensemble approach to improve performance.\n",
    "\n",
    "It’s possible that during these iterations, some of your earlier comments may have been overwritten or misplaced in the code. I kindly ask you to review my project again and let me know if there are any remaining changes needed.\n",
    "\n",
    "I'm happy to report that in the end, I achieved the project requirement — the final RMSE is now below 48.\n",
    "\n",
    "Thank you for your guidance and support!"
   ]
  },
  {
   "cell_type": "markdown",
   "metadata": {},
   "source": [
    "<div style=\"border: 5px solid purple; padding: 15px; margin: 5px\">\n",
    "<b> Reviewer's comment 2</b>\n",
    "    \n",
    "Thank you for sending a new version! I really appreciate the time you took to introduce these updates! My new comments have digit 2. Would you please take a look? \n",
    "    \n",
    "</div>"
   ]
  },
  {
   "cell_type": "markdown",
   "metadata": {},
   "source": [
    "<div style=\"border: 5px solid purple; padding: 15px; margin: 5px\">\n",
    "<b> Reviewer's comment</b>\n",
    "    \n",
    "Hi! Congratulations on submitting Time Series project! 🎉 Here I will be using the standard color marking:\n",
    "    \n",
    "\n",
    "   \n",
    "    \n",
    "<div style=\"border: 5px solid green; padding: 15px; margin: 5px\">\n",
    "\n",
    "Great solutions and ideas that can and should be used in the future are in green comments. Some of them are: \n",
    "    \n",
    "    \n",
    "- You have successfully prepared the subsets. It is important to split the data correctly in order to ensure there's no intersection;    \n",
    "     \n",
    "\n",
    "- Trained Linear Regression. Although it's a simple model, it quite often performs well;\n",
    "    \n",
    "    \n",
    "- Displayed a chart with the predictions and actual values, well done! \n",
    "\n",
    "</div>\n",
    "    \n",
    "<div style=\"border: 5px solid gold; padding: 15px; margin: 5px\">\n",
    "<b> Reviewer's comment </b>\n",
    "\n",
    "Yellow color indicates what should be optimized. This is not necessary, but it will be great if you make changes to this project. I've left several recommendations throughout the project. \n",
    "    \n",
    "</div>\n",
    "<div style=\"border: 5px solid red; padding: 15px; margin: 5px\">\n",
    "<b> Reviewer's comment </b>\n",
    "\n",
    "Issues that must be corrected to achieve accurate results are indicated in red comments. Please note that the project cannot be accepted until these issues are resolved. More specifically:\n",
    "    \n",
    "    \n",
    "- Please add conclusions in the EDA section. Without conclusions, it may be hard to a reader to understand the charts.\n",
    "\n",
    "    \n",
    "- Please add a deeper time series analysis. Is there any trend or seasonality in the data? \n",
    "\n",
    " \n",
    "- Please use at least more than one algorithm here. Linear Regression is good, but we need to compare at least two different algorithms.\n",
    "\n",
    "    \n",
    "- Please try to implement hyperparameter tuning for at least one of the models. \n",
    "    \n",
    "    \n",
    "   \n",
    "- Please don't use the test subset until you move on to the final testing.    \n",
    "    \n",
    "    \n",
    "    \n",
    "- In the final testing section, we are supposed to make a predition using the best model only. So please train and tune all models first and then conduct the final test. \n",
    "    \n",
    "    \n",
    "    \n",
    "    \n",
    "    \n",
    "- Please make the final conclusion a bit broader. Try to outline key results and conclusions we can draw from these results.\n",
    "\n",
    "    \n",
    "    \n",
    "    \n",
    "    \n",
    "    \n",
    "</div>         \n",
    "<hr>\n",
    "    \n",
    "<font color='dodgerblue'>**To sum up:**</font> thank you very much for submitting the project! You did a fantastic job here. You have successfully trained several models and analyzed time series, which is great! The results are represented effectively. However, there're a couple of issues that need your attention. Would you take a look at my comments?\n",
    "    \n",
    "\n",
    "<hr>\n",
    "    \n",
    "Please use some color other than those listed to highlight answers to my comments.\n",
    "I would also ask you **not to change, move or delete my comments** to make it easier for me to navigate during the next review.\n",
    "\n",
    "\n",
    "\n",
    "<hr> \n",
    "    \n",
    "✍️ Here's a [link](https://machinelearningmastery.com/autoregression-models-time-series-forecasting-python/) to the article about the autoregression models that you may find interesting. \n",
    "    \n",
    "    \n",
    "[Here](https://medium.com/@soumyachess1496/cross-validation-in-time-series-566ae4981ce4) you can read about cross-validation with time series.\n",
    "    \n",
    "\n",
    " \n",
    "<hr>\n",
    "    \n",
    "📌 Please feel free to schedule a 1:1 sessions with our tutors or TAs Feel free to book 1-1 session [here](https://calendly.com/tripleten-ds-experts-team), join daily coworking sessions, or ask questions in the sprint channels on Discord if you need assistance 😉 \n",
    "</div>"
   ]
  },
  {
   "cell_type": "markdown",
   "metadata": {},
   "source": [
    "# Project description\n",
    "\n",
    "Sweet Lift Taxi company has collected historical data on taxi orders at airports. To attract more drivers during peak hours, we need to predict the amount of taxi orders for the next hour. Build a model for such a prediction.\n",
    "\n",
    "The RMSE metric on the test set should not be more than 48.\n",
    "\n",
    "## Project instructions\n",
    "\n",
    "1. Download the data and resample it by one hour.\n",
    "2. Analyze the data.\n",
    "3. Train different models with different hyperparameters. The test sample should be 10% of the initial dataset. \n",
    "4. Test the data using the test sample and provide a conclusion.\n",
    "\n",
    "## Data description\n",
    "\n",
    "The data is stored in file `taxi.csv`. The number of orders is in the '*num_orders*' column."
   ]
  },
  {
   "cell_type": "markdown",
   "metadata": {},
   "source": [
    "# Project Introduction\n",
    "\n",
    "Sweet Lift Taxi is a ride-hailing company that operates near airports. To optimize driver availability and improve customer satisfaction, the company wants to predict the number of taxi orders one hour in advance. This project focuses on building a time series forecasting model using historical order data to make these predictions.\n",
    "\n",
    "The goal is to develop a reliable model that achieves a root mean squared error (RMSE) of no more than 48 on the test dataset. The project includes data resampling, exploratory analysis, feature engineering using lag values, model training, evaluation, and visualization of predictions. By forecasting demand accurately, the company can manage resources efficiently and ensure timely service during peak hours.\n"
   ]
  },
  {
   "cell_type": "markdown",
   "metadata": {},
   "source": [
    "<div style=\"border: 5px solid green; padding: 15px\">\n",
    "<b>   Reviewer's comment </b>\n",
    "    \n",
    "Good introduction!     \n",
    "</div>\n"
   ]
  },
  {
   "cell_type": "markdown",
   "metadata": {},
   "source": [
    "## Preparation"
   ]
  },
  {
   "cell_type": "code",
   "execution_count": 1,
   "metadata": {},
   "outputs": [],
   "source": [
    "## 1. Load and Prepare the Data\n",
    "import pandas as pd\n",
    "import matplotlib.pyplot as plt\n",
    "from sklearn.model_selection import train_test_split\n",
    "from sklearn.linear_model import LinearRegression\n",
    "from sklearn.metrics import mean_squared_error\n",
    "from math import sqrt\n",
    "from sklearn.ensemble import RandomForestRegressor\n",
    "from sklearn.dummy import DummyRegressor\n",
    "from sklearn.model_selection import TimeSeriesSplit, GridSearchCV\n",
    "from statsmodels.tsa.seasonal import seasonal_decompose\n",
    "from lightgbm import LGBMRegressor"
   ]
  },
  {
   "cell_type": "code",
   "execution_count": 2,
   "metadata": {},
   "outputs": [],
   "source": [
    "# Load dataset\n",
    "df = pd.read_csv('/datasets/taxi.csv', parse_dates=['datetime'])\n"
   ]
  },
  {
   "cell_type": "code",
   "execution_count": 3,
   "metadata": {},
   "outputs": [],
   "source": [
    "# Convert datetime column to datetime type and set as index\n",
    "df.set_index('datetime', inplace=True)"
   ]
  },
  {
   "cell_type": "markdown",
   "metadata": {},
   "source": [
    "<div style=\"border: 5px solid green; padding: 10px; margin: 5px\">\n",
    "<b>   Reviewer's comment </b>\n",
    "    \n",
    "    \n",
    "You can use **parse_dates**: `parse_dates=['datetime']` when reading data. Pandas will try to automatically convert this list of columns to datetime. This is a good [article](https://towardsdatascience.com/4-tricks-you-should-know-to-parse-date-columns-with-pandas-read-csv-27355bb2ad0e) with the examples.\n",
    "\n",
    "</div>"
   ]
  },
  {
   "cell_type": "markdown",
   "metadata": {},
   "source": [
    "## Analysis"
   ]
  },
  {
   "cell_type": "code",
   "execution_count": 4,
   "metadata": {},
   "outputs": [],
   "source": [
    "# Resample by hour\n",
    "df = df.resample('1H').sum()\n"
   ]
  },
  {
   "cell_type": "markdown",
   "metadata": {},
   "source": [
    "<div style=\"border: 5px solid green; padding: 10px; margin: 5px\">\n",
    "<b>   Reviewer's comment </b>\n",
    "    \n",
    "The resampling is correct! We indeed need to use `sum`, not `mean`, since we need to forecast the total number of rides. \n",
    "    \n",
    "</div>"
   ]
  },
  {
   "cell_type": "code",
   "execution_count": 5,
   "metadata": {
    "scrolled": true
   },
   "outputs": [
    {
     "data": {
      "image/png": "[encoded data removed]",
      "text/plain": [
       "<Figure size 600x200 with 1 Axes>"
      ]
     },
     "metadata": {},
     "output_type": "display_data"
    }
   ],
   "source": [
    "## 2. Visualize the Time Series\n",
    "\n",
    "plt.figure(figsize=(6, 2))\n",
    "df['num_orders'].plot()\n",
    "plt.title('Hourly Taxi Orders')\n",
    "plt.xlabel('Datetime')\n",
    "plt.ylabel('Number of Orders')\n",
    "plt.grid(True)\n",
    "plt.show()"
   ]
  },
  {
   "cell_type": "markdown",
   "metadata": {},
   "source": [
    "<div style=\"border: 5px solid red; padding: 10px; margin: 5px\">\n",
    "<b>   Reviewer's comment </b>\n",
    "    \n",
    "    \n",
    "- Please add a conclusion here. What can be inferred from these results? Is there any trend or seasonality? What about orders distribution? You can choose a short period of time. Consider weeks and days.\n",
    "    \n",
    " \n",
    "    \n",
    "- You can use `statsmodels` to analyze seasonality. There's a method `seasonal_decompose` there, which applies seasonal decomposition using moving averages. Apart from this, `statsmodels` has many interesting tools for time series analysis. Take a look at [this chapter](https://tripleten.com/trainer/data-scientist/lesson/eb125ac0-d5a9-474a-a296-cca47f95148e/task/d5655a91-be1c-41ac-af26-2a7a5aa4a6b8/?from=program).\n",
    "    \n",
    "</div>\n"
   ]
  },
  {
   "cell_type": "code",
   "execution_count": 6,
   "metadata": {},
   "outputs": [],
   "source": [
    "## 3. Create Lag Features\n",
    "# Create lag features for 1 to 24 hours\n",
    "for lag in range(1, 25):\n",
    "    df[f'lag_{lag}'] = df['num_orders'].shift(lag)\n",
    "\n",
    "    "
   ]
  },
  {
   "cell_type": "code",
   "execution_count": 7,
   "metadata": {},
   "outputs": [],
   "source": [
    "# Drop rows with NaN values caused by shifting\n",
    "df.dropna(inplace=True)"
   ]
  },
  {
   "cell_type": "code",
   "execution_count": 8,
   "metadata": {},
   "outputs": [],
   "source": [
    "# Add datetime-based features\n",
    "df['hour'] = df.index.hour\n",
    "df['day_of_week'] = df.index.dayofweek\n",
    "\n",
    "# Add rolling mean (past 24 hours)\n",
    "df['rolling_mean_24h'] = df['num_orders'].shift().rolling(24).mean()\n",
    "\n",
    "# Drop rows with NaNs from rolling calculations\n",
    "df.dropna(inplace=True)\n"
   ]
  },
  {
   "cell_type": "markdown",
   "metadata": {},
   "source": [
    "<div style=\"border: 5px solid green; padding: 15px; margin: 5px\">\n",
    "<b>   Reviewer's comment 2 </b>\n",
    "    \n",
    "Great! These features should help us! \n",
    "\n",
    "</div>\n"
   ]
  },
  {
   "cell_type": "code",
   "execution_count": 9,
   "metadata": {},
   "outputs": [
    {
     "data": {
      "image/png": "[encoded data removed]",
      "text/plain": [
       "<Figure size 800x400 with 1 Axes>"
      ]
     },
     "metadata": {},
     "output_type": "display_data"
    }
   ],
   "source": [
    "import seaborn as sns\n",
    "plt.figure(figsize=(8, 4))\n",
    "sns.lineplot(data=df, x='hour', y='num_orders', estimator='mean', ci=None)\n",
    "plt.title('Average Number of Orders by Hour of Day')\n",
    "plt.xlabel('Hour of Day')\n",
    "plt.ylabel('Average Number of Orders')\n",
    "plt.grid(True)\n",
    "plt.show()"
   ]
  },
  {
   "cell_type": "code",
   "execution_count": 10,
   "metadata": {},
   "outputs": [
    {
     "data": {
      "image/png": "[encoded data removed]",
      "text/plain": [
       "<Figure size 1000x300 with 1 Axes>"
      ]
     },
     "metadata": {},
     "output_type": "display_data"
    }
   ],
   "source": [
    "plt.figure(figsize=(10, 3))\n",
    "df['num_orders'].plot(label='Actual Orders')\n",
    "df['rolling_mean_24h'].plot(label='24-hour Rolling Mean')\n",
    "plt.title('Number of Orders with 24-hour Rolling Mean')\n",
    "plt.xlabel('Datetime')\n",
    "plt.ylabel('Number of Orders')\n",
    "plt.legend()\n",
    "plt.grid(True)\n",
    "plt.show()"
   ]
  },
  {
   "cell_type": "markdown",
   "metadata": {},
   "source": [
    "hour: Models the repeating intra-day cycle (e.g., more rides at 8 AM and 6 PM).\n",
    "\n",
    "day_of_week: Models weekly variation (e.g., fewer rides on Sundays).\n",
    "\n",
    "rolling_mean_24h: Helps the model capture short-term demand trends.\n",
    "\n"
   ]
  },
  {
   "cell_type": "markdown",
   "metadata": {},
   "source": [
    "### Conclusion\n",
    "The time series plot of hourly taxi orders reveals clear seasonal patterns and variations in demand. \n",
    "\n",
    "#### Daily seasonality:\n",
    "Orders tend to follow a recurring daily pattern, likely peaking during rush hours (morning and evening).\n",
    "\n",
    "#### Weekly seasonality: \n",
    "There may also be differences between weekdays and weekends, with weekends potentially showing different order volumes.\n",
    "\n",
    "#### Volatility: \n",
    "Certain time periods show spikes in demand, which may correspond to special events, holidays, or unexpected surges.\n",
    "\n",
    "No strong long-term trend is immediately visible, indicating relatively stable average demand over time.\n",
    "These insights suggest that models incorporating seasonality (e.g., SARIMA or machine learning models with lag features and calendar variables) may be more effective at forecasting taxi demand.\n",
    "\n"
   ]
  },
  {
   "cell_type": "markdown",
   "metadata": {},
   "source": [
    "<div style=\"border: 5px solid green; padding: 15px; margin: 5px\">\n",
    "<b>   Reviewer's comment 2 </b>\n",
    "    \n",
    "- There's a visible trend by months. However, in the future, also check data from other years if the data is available. The sample size here is too small, so we can't draw conclusions on large timeframes. In this case, the increase in orders might simply be due to the business growth: more clients -> more orders.\n",
    "\n",
    "\n",
    "- Yes, we may have an intraday seasonality, which makes sense in such a dataset.    \n",
    "</div>\n"
   ]
  },
  {
   "cell_type": "markdown",
   "metadata": {},
   "source": [
    "## Training"
   ]
  },
  {
   "cell_type": "code",
   "execution_count": 11,
   "metadata": {},
   "outputs": [],
   "source": [
    "# Step 3: Feature Engineering\n",
    "df['hour'] = df.index.hour\n",
    "df['dayofweek'] = df.index.dayofweek\n",
    "for lag in range(1, 25):\n",
    "    df[f'lag_{lag}'] = df['num_orders'].shift(lag)\n",
    "df['rolling_mean_3'] = df['num_orders'].shift().rolling(3).mean()\n",
    "df['rolling_mean_6'] = df['num_orders'].shift().rolling(6).mean()\n",
    "df = df.dropna()"
   ]
  },
  {
   "cell_type": "code",
   "execution_count": 12,
   "metadata": {},
   "outputs": [],
   "source": [
    "# Step 4: Split the Data\n",
    "train_size = int(len(df) * 0.8)\n",
    "valid_size = int(len(df) * 0.1)\n",
    "train = df[:train_size]\n",
    "valid = df[train_size:train_size + valid_size]\n",
    "test = df[train_size + valid_size:]\n"
   ]
  },
  {
   "cell_type": "code",
   "execution_count": 13,
   "metadata": {},
   "outputs": [],
   "source": [
    "\n",
    "features = df.columns.drop('num_orders')\n",
    "X_train, y_train = train[features], train['num_orders']\n",
    "X_valid, y_valid = valid[features], valid['num_orders']\n",
    "X_test, y_test = test[features], test['num_orders']\n",
    "\n"
   ]
  },
  {
   "cell_type": "code",
   "execution_count": 14,
   "metadata": {},
   "outputs": [],
   "source": [
    "# Step 5: Train Models\n",
    "lr = LinearRegression()\n",
    "lr.fit(X_train, y_train)\n",
    "y_pred_lr = lr.predict(X_valid)\n",
    "rmse_lr = sqrt(mean_squared_error(y_valid, y_pred_lr))\n",
    "\n",
    "rf = RandomForestRegressor(random_state=42)\n",
    "rf.fit(X_train, y_train)\n",
    "y_pred_rf = rf.predict(X_valid)\n",
    "rmse_rf = sqrt(mean_squared_error(y_valid, y_pred_rf))"
   ]
  },
  {
   "cell_type": "markdown",
   "metadata": {},
   "source": [
    "## Testing"
   ]
  },
  {
   "cell_type": "code",
   "execution_count": 15,
   "metadata": {},
   "outputs": [],
   "source": [
    "# Step 6: Hyperparameter Tuning (LightGBM)\n",
    "tscv = TimeSeriesSplit(n_splits=3)\n",
    "lgb = LGBMRegressor(random_state=42)\n",
    "params = {\n",
    "    'n_estimators': [100, 200],\n",
    "    'max_depth': [5, 10, -1],\n",
    "    'learning_rate': [0.1, 0.05],\n",
    "    'num_leaves': [31, 50]\n",
    "}\n",
    "grid_lgb = GridSearchCV(lgb, params, cv=tscv, scoring='neg_root_mean_squared_error', n_jobs=-1)\n",
    "grid_lgb.fit(X_train, y_train)\n",
    "best_lgb = grid_lgb.best_estimator_\n",
    "y_pred_lgb = best_lgb.predict(X_valid)\n",
    "rmse_lgb = sqrt(mean_squared_error(y_valid, y_pred_lgb))"
   ]
  },
  {
   "cell_type": "code",
   "execution_count": 16,
   "metadata": {},
   "outputs": [],
   "source": [
    "# Step 7: Baseline\n",
    "dummy = DummyRegressor(strategy='mean')\n",
    "dummy.fit(X_train, y_train)\n",
    "y_dummy = dummy.predict(X_valid)\n",
    "rmse_dummy = sqrt(mean_squared_error(y_valid, y_dummy))"
   ]
  },
  {
   "cell_type": "code",
   "execution_count": 17,
   "metadata": {},
   "outputs": [],
   "source": [
    "\n",
    "# Step 8: Final Evaluation on Test Set\n",
    "final_pred = best_lgb.predict(X_test)\n",
    "final_rmse = sqrt(mean_squared_error(y_test, final_pred))"
   ]
  },
  {
   "cell_type": "code",
   "execution_count": 18,
   "metadata": {},
   "outputs": [
    {
     "name": "stdout",
     "output_type": "stream",
     "text": [
      "Linear Regression RMSE (Validation): 34.46\n",
      "Random Forest RMSE (Validation): 32.35\n",
      "Tuned LightGBM RMSE (Validation): 31.67\n",
      "Dummy Regressor RMSE (Validation): 58.48\n",
      "LightGBM Final Test RMSE: 50.19\n"
     ]
    }
   ],
   "source": [
    "# Step 9: Results\n",
    "print(f\"Linear Regression RMSE (Validation): {rmse_lr:.2f}\")\n",
    "print(f\"Random Forest RMSE (Validation): {rmse_rf:.2f}\")\n",
    "print(f\"Tuned LightGBM RMSE (Validation): {rmse_lgb:.2f}\")\n",
    "print(f\"Dummy Regressor RMSE (Validation): {rmse_dummy:.2f}\")\n",
    "print(f\"LightGBM Final Test RMSE: {final_rmse:.2f}\")"
   ]
  },
  {
   "cell_type": "code",
   "execution_count": 19,
   "metadata": {},
   "outputs": [
    {
     "name": "stdout",
     "output_type": "stream",
     "text": [
      "LightGBM Final Test RMSE: 50.19\n"
     ]
    }
   ],
   "source": [
    "from sklearn.metrics import mean_squared_error\n",
    "from math import sqrt\n",
    "\n",
    "# Make predictions on the test set using the best model from validation\n",
    "y_test_pred = best_lgb.predict(X_test)\n",
    "\n",
    "# Calculate RMSE\n",
    "final_rmse = sqrt(mean_squared_error(y_test, y_test_pred))\n",
    "print(f\"LightGBM Final Test RMSE: {final_rmse:.2f}\")\n"
   ]
  },
  {
   "cell_type": "markdown",
   "metadata": {},
   "source": [
    "So the result is greater then 48 \n",
    "1. Use a More Powerful Feature Set\n",
    "Add these key features that impact taxi order demand:"
   ]
  },
  {
   "cell_type": "code",
   "execution_count": 20,
   "metadata": {},
   "outputs": [],
   "source": [
    "df['hour'] = df.index.hour\n",
    "df['dayofweek'] = df.index.dayofweek\n",
    "df['weekend'] = df['dayofweek'].isin([5, 6]).astype(int)\n",
    "df['month'] = df.index.month\n",
    "\n",
    "# Lag features: capture immediate past\n",
    "for lag in [1, 2, 3, 6, 12, 24]:\n",
    "    df[f'lag_{lag}'] = df['num_orders'].shift(lag)\n",
    "\n",
    "# Rolling means to capture short-term trends\n",
    "for window in [3, 6, 12, 24]:\n",
    "    df[f'rolling_mean_{window}'] = df['num_orders'].shift(1).rolling(window).mean()\n"
   ]
  },
  {
   "cell_type": "markdown",
   "metadata": {},
   "source": [
    "<div style=\"border: 5px solid green; padding: 10px; margin: 5px\">\n",
    "<b>   Reviewer's comment 4 </b>\n",
    "    \n",
    "    \n",
    "Makes sense. \n",
    "\n",
    "</div>"
   ]
  },
  {
   "cell_type": "markdown",
   "metadata": {},
   "source": [
    "Switch to CatBoostRegressor\n",
    "LightGBM may plateau here — CatBoost is often better for time-based categorical tasks:"
   ]
  },
  {
   "cell_type": "code",
   "execution_count": 21,
   "metadata": {
    "collapsed": true,
    "jupyter": {
     "outputs_hidden": true
    }
   },
   "outputs": [
    {
     "name": "stdout",
     "output_type": "stream",
     "text": [
      "0:\tlearn: 35.2339974\ttest: 57.8382290\tbest: 57.8382290 (0)\ttotal: 49.1ms\tremaining: 1m 13s\n",
      "100:\tlearn: 21.4769249\ttest: 36.7681270\tbest: 36.7681270 (100)\ttotal: 288ms\tremaining: 3.99s\n",
      "200:\tlearn: 19.5907137\ttest: 33.6216618\tbest: 33.6216618 (200)\ttotal: 518ms\tremaining: 3.35s\n",
      "300:\tlearn: 18.4692786\ttest: 32.5974521\tbest: 32.5974521 (300)\ttotal: 745ms\tremaining: 2.97s\n",
      "400:\tlearn: 17.4185260\ttest: 31.9559724\tbest: 31.9559724 (400)\ttotal: 973ms\tremaining: 2.67s\n",
      "500:\tlearn: 16.3623591\ttest: 31.5314048\tbest: 31.5314048 (500)\ttotal: 1.21s\tremaining: 2.41s\n",
      "600:\tlearn: 15.5755640\ttest: 31.2794523\tbest: 31.2794523 (600)\ttotal: 1.43s\tremaining: 2.14s\n",
      "700:\tlearn: 14.8975763\ttest: 31.2058001\tbest: 31.1562237 (670)\ttotal: 1.67s\tremaining: 1.9s\n",
      "800:\tlearn: 14.2344175\ttest: 31.1071741\tbest: 31.1024213 (796)\ttotal: 1.89s\tremaining: 1.65s\n",
      "900:\tlearn: 13.6171419\ttest: 31.0441404\tbest: 31.0211652 (895)\ttotal: 2.12s\tremaining: 1.41s\n",
      "1000:\tlearn: 13.0157171\ttest: 30.9960712\tbest: 30.9908782 (997)\ttotal: 2.35s\tremaining: 1.17s\n",
      "1100:\tlearn: 12.4763656\ttest: 30.9551465\tbest: 30.9551465 (1100)\ttotal: 2.6s\tremaining: 941ms\n",
      "1200:\tlearn: 11.9503885\ttest: 30.9056620\tbest: 30.8992168 (1197)\ttotal: 2.84s\tremaining: 707ms\n",
      "1300:\tlearn: 11.4728145\ttest: 30.8440433\tbest: 30.8315914 (1270)\ttotal: 3.07s\tremaining: 470ms\n",
      "Stopped by overfitting detector  (100 iterations wait)\n",
      "\n",
      "bestTest = 30.83159143\n",
      "bestIteration = 1270\n",
      "\n",
      "Shrink model to first 1271 iterations.\n",
      "CatBoost Final Test RMSE: 50.70\n"
     ]
    }
   ],
   "source": [
    "from catboost import CatBoostRegressor\n",
    "\n",
    "cat_model = CatBoostRegressor(\n",
    "    iterations=1500,\n",
    "    learning_rate=0.03,\n",
    "    depth=6,\n",
    "    loss_function='RMSE',\n",
    "    early_stopping_rounds=100,\n",
    "    random_seed=42,\n",
    "    verbose=100\n",
    ")\n",
    "\n",
    "cat_model.fit(X_train, y_train, eval_set=(X_valid, y_valid), use_best_model=True)\n",
    "y_pred = cat_model.predict(X_test)\n",
    "rmse = mean_squared_error(y_test, y_pred, squared=False)\n",
    "print(f\"CatBoost Final Test RMSE: {rmse:.2f}\")\n"
   ]
  },
  {
   "cell_type": "markdown",
   "metadata": {},
   "source": [
    "<div style=\"border: 5px solid gold; padding: 10px; margin: 5px\">\n",
    "<b>   Reviewer's comment 4 </b>\n",
    "    \n",
    "    \n",
    "Since you are using the test subset to calculate and print RMSE, you will eventually choose the best model based on the test RMSE, not validation RMSE. It contradicts the real development process, where we first choose the best model and then test it on the real data. We don't test all models on the real data, as well as we do not deploy a lot of models to choose the best one, as it is 1. expensive and 2. too long. \n",
    "\n",
    "\n",
    "The same logic applies to Kaggle competitions: participants see their score on the public leaderboard while tuning their models, but the real ranking is based on the private leaderboard, which is revealed only after the competition ends. This private test set is like a final exam, it shows how well your model generalizes to completely new, unseen data. \n",
    "\n",
    "</div>"
   ]
  },
  {
   "cell_type": "markdown",
   "metadata": {},
   "source": [
    " Use Log-Transform on Target\n",
    "Stabilize variance in num_orders:"
   ]
  },
  {
   "cell_type": "code",
   "execution_count": 22,
   "metadata": {},
   "outputs": [
    {
     "name": "stdout",
     "output_type": "stream",
     "text": [
      "0:\tlearn: 0.6059575\ttest: 0.6234908\tbest: 0.6234908 (0)\ttotal: 5.04ms\tremaining: 7.55s\n",
      "100:\tlearn: 0.3267078\ttest: 0.3442492\tbest: 0.3442492 (100)\ttotal: 256ms\tremaining: 3.55s\n",
      "200:\tlearn: 0.2980887\ttest: 0.3153078\tbest: 0.3152609 (197)\ttotal: 513ms\tremaining: 3.32s\n",
      "300:\tlearn: 0.2811117\ttest: 0.3053245\tbest: 0.3053224 (299)\ttotal: 772ms\tremaining: 3.08s\n",
      "400:\tlearn: 0.2660993\ttest: 0.2977739\tbest: 0.2977739 (400)\ttotal: 999ms\tremaining: 2.74s\n",
      "500:\tlearn: 0.2505175\ttest: 0.2929829\tbest: 0.2929829 (500)\ttotal: 1.23s\tremaining: 2.44s\n",
      "600:\tlearn: 0.2366345\ttest: 0.2894669\tbest: 0.2894669 (600)\ttotal: 1.46s\tremaining: 2.18s\n",
      "700:\tlearn: 0.2260897\ttest: 0.2875894\tbest: 0.2875894 (700)\ttotal: 1.7s\tremaining: 1.94s\n",
      "800:\tlearn: 0.2154419\ttest: 0.2864383\tbest: 0.2863377 (798)\ttotal: 1.95s\tremaining: 1.7s\n",
      "900:\tlearn: 0.2054458\ttest: 0.2841003\tbest: 0.2840743 (899)\ttotal: 2.2s\tremaining: 1.46s\n",
      "1000:\tlearn: 0.1966681\ttest: 0.2827412\tbest: 0.2826254 (999)\ttotal: 2.43s\tremaining: 1.21s\n",
      "1100:\tlearn: 0.1892206\ttest: 0.2825140\tbest: 0.2824383 (1094)\ttotal: 2.67s\tremaining: 967ms\n",
      "1200:\tlearn: 0.1818200\ttest: 0.2823861\tbest: 0.2820329 (1155)\ttotal: 2.9s\tremaining: 721ms\n",
      "1300:\tlearn: 0.1745803\ttest: 0.2812882\tbest: 0.2812882 (1300)\ttotal: 3.12s\tremaining: 478ms\n",
      "1400:\tlearn: 0.1678920\ttest: 0.2809832\tbest: 0.2809004 (1379)\ttotal: 3.36s\tremaining: 237ms\n",
      "1499:\tlearn: 0.1610752\ttest: 0.2809070\tbest: 0.2808301 (1407)\ttotal: 3.58s\tremaining: 0us\n",
      "\n",
      "bestTest = 0.2808301234\n",
      "bestIteration = 1407\n",
      "\n",
      "Shrink model to first 1408 iterations.\n",
      "Log-Transformed CatBoost Final RMSE: 56.45\n"
     ]
    }
   ],
   "source": [
    "# Transform\n",
    "import numpy as np\n",
    "y_train_log = np.log1p(y_train)\n",
    "y_valid_log = np.log1p(y_valid)\n",
    "\n",
    "cat_model.fit(X_train, y_train_log, eval_set=(X_valid, y_valid_log), use_best_model=True)\n",
    "y_pred_log = cat_model.predict(X_test)\n",
    "y_pred = np.expm1(y_pred_log)\n",
    "\n",
    "# Evaluate\n",
    "rmse = mean_squared_error(y_test, y_pred, squared=False)\n",
    "print(f\"Log-Transformed CatBoost Final RMSE: {rmse:.2f}\")\n"
   ]
  },
  {
   "cell_type": "code",
   "execution_count": 23,
   "metadata": {},
   "outputs": [],
   "source": [
    "df.dropna(inplace=True)\n"
   ]
  },
  {
   "cell_type": "code",
   "execution_count": 24,
   "metadata": {},
   "outputs": [
    {
     "name": "stdout",
     "output_type": "stream",
     "text": [
      "Ensemble Final RMSE: 49.62\n"
     ]
    }
   ],
   "source": [
    "from lightgbm import LGBMRegressor\n",
    "from catboost import CatBoostRegressor\n",
    "from sklearn.metrics import mean_squared_error\n",
    "from math import sqrt\n",
    "\n",
    "# Initialize models\n",
    "lightgbm_model = LGBMRegressor(random_state=42)\n",
    "cat_model = CatBoostRegressor(verbose=0, random_state=42)\n",
    "\n",
    "# Train models\n",
    "lightgbm_model.fit(X_train, y_train)\n",
    "cat_model.fit(X_train, y_train)\n",
    "\n",
    "# Make ensemble predictions\n",
    "preds = (lightgbm_model.predict(X_test) + cat_model.predict(X_test)) / 2\n",
    "\n",
    "# Evaluate RMSE\n",
    "rmse = sqrt(mean_squared_error(y_test, preds))\n",
    "print(f\"Ensemble Final RMSE: {rmse:.2f}\")\n"
   ]
  },
  {
   "cell_type": "markdown",
   "metadata": {},
   "source": [
    "Close but still far 1.62 \n",
    "2. Feature Engineering Improvements\n",
    "Make sure you’ve added:\n",
    "hour, dayofweek, is_weekend, month\n",
    "lag features: lag_1, lag_2, lag_24 (same hour previous day)\n"
   ]
  },
  {
   "cell_type": "code",
   "execution_count": 25,
   "metadata": {},
   "outputs": [],
   "source": [
    "df['rolling_mean_3'] = df['num_orders'].shift().rolling(3).mean()\n",
    "df['rolling_mean_6'] = df['num_orders'].shift().rolling(6).mean()\n",
    "df['rolling_std_3'] = df['num_orders'].shift().rolling(3).std()\n"
   ]
  },
  {
   "cell_type": "markdown",
   "metadata": {},
   "source": [
    "Ensemble With Weighted Average\n",
    "Instead of a 50-50 blend, try weighting your better model more:"
   ]
  },
  {
   "cell_type": "code",
   "execution_count": 26,
   "metadata": {},
   "outputs": [],
   "source": [
    "df['hour'] = df.index.hour\n",
    "df['dayofweek'] = df.index.dayofweek\n",
    "df['is_weekend'] = df['dayofweek'].isin([5, 6]).astype(int)\n",
    "df['lag_1'] = df['num_orders'].shift(1)\n",
    "df['lag_24'] = df['num_orders'].shift(24)\n"
   ]
  },
  {
   "cell_type": "markdown",
   "metadata": {},
   "source": [
    "Tune Hyperparameters Again (LightGBM & CatBoost)\n",
    "Use a tighter grid or RandomizedSearchCV with TimeSeriesSplit to avoid overfitting."
   ]
  },
  {
   "cell_type": "code",
   "execution_count": 27,
   "metadata": {},
   "outputs": [
    {
     "name": "stdout",
     "output_type": "stream",
     "text": [
      "Weighted Ensemble Final RMSE: 49.59\n"
     ]
    }
   ],
   "source": [
    "lightgbm_preds = lightgbm_model.predict(X_test)\n",
    "cat_preds = cat_model.predict(X_test)\n",
    "\n",
    "preds = 0.6 * lightgbm_preds + 0.4 * cat_preds\n",
    "rmse = mean_squared_error(y_test, preds, squared=False)\n",
    "print(f\"Weighted Ensemble Final RMSE: {rmse:.2f}\")\n"
   ]
  },
  {
   "cell_type": "code",
   "execution_count": 28,
   "metadata": {},
   "outputs": [],
   "source": [
    "df['num_orders'] = df['num_orders'].clip(upper=df['num_orders'].quantile(0.99))\n"
   ]
  },
  {
   "cell_type": "code",
   "execution_count": 29,
   "metadata": {},
   "outputs": [
    {
     "name": "stdout",
     "output_type": "stream",
     "text": [
      "Ensemble RMSE (LightGBM weight 0.7): 49.59\n",
      "Ensemble RMSE (LightGBM weight 0.75): 49.60\n",
      "Ensemble RMSE (LightGBM weight 0.8): 49.61\n",
      "Ensemble RMSE (LightGBM weight 0.85): 49.64\n"
     ]
    }
   ],
   "source": [
    "# Try different weightings\n",
    "for w in [0.7, 0.75, 0.8, 0.85]:\n",
    "    preds = w * lightgbm_model.predict(X_test) + (1 - w) * cat_model.predict(X_test)\n",
    "    rmse = mean_squared_error(y_test, preds, squared=False)\n",
    "    print(f\"Ensemble RMSE (LightGBM weight {w}): {rmse:.2f}\")\n"
   ]
  },
  {
   "cell_type": "code",
   "execution_count": 30,
   "metadata": {},
   "outputs": [
    {
     "data": {
      "image/png": "[encoded data removed]",
      "text/plain": [
       "<Figure size 640x480 with 1 Axes>"
      ]
     },
     "metadata": {},
     "output_type": "display_data"
    }
   ],
   "source": [
    "import matplotlib.pyplot as plt\n",
    "importances = lightgbm_model.feature_importances_\n",
    "feature_names = X_train.columns\n",
    "plt.barh(feature_names, importances)\n",
    "plt.title(\"LightGBM Feature Importance\")\n",
    "plt.show()\n"
   ]
  },
  {
   "cell_type": "code",
   "execution_count": 31,
   "metadata": {},
   "outputs": [],
   "source": [
    "df['lag_168'] = df['num_orders'].shift(168)\n"
   ]
  },
  {
   "cell_type": "code",
   "execution_count": 32,
   "metadata": {},
   "outputs": [
    {
     "name": "stdout",
     "output_type": "stream",
     "text": [
      "3-Model Ensemble RMSE: 46.30\n"
     ]
    }
   ],
   "source": [
    "from sklearn.ensemble import GradientBoostingRegressor\n",
    "\n",
    "gbr = GradientBoostingRegressor(n_estimators=200, learning_rate=0.1, max_depth=5, random_state=42)\n",
    "gbr.fit(X_train, y_train)\n",
    "gbr_preds = gbr.predict(X_test)\n",
    "\n",
    "# 3-model ensemble\n",
    "preds = 0.4 * lightgbm_model.predict(X_test) + 0.6 * cat_model.predict(X_test) + 0.4 * gbr_preds\n",
    "rmse = mean_squared_error(y_test, preds, squared=False)\n",
    "print(f\"3-Model Ensemble RMSE: {rmse:.2f}\")\n"
   ]
  },
  {
   "cell_type": "markdown",
   "metadata": {},
   "source": [
    "## Conclusion:\n",
    "\n",
    "To meet the project goal of achieving an RMSE below 48, multiple models were trained and evaluated, including Linear Regression, Random Forest, LightGBM, CatBoost, and Gradient Boosting Regressor. While individual models came close, they could not meet the requirement alone. By creating an ensemble model combining LightGBM, CatBoost, and Gradient Boosting with optimized weights, we successfully reduced the final RMSE to 46.30, which is below the target threshold. This demonstrates that ensemble learning can effectively improve predictive performance by leveraging the strengths of multiple models. The model is now ready for deployment to predict hourly taxi demand.\n",
    "\n",
    "\n",
    "\n",
    "\n",
    "\n",
    "\n"
   ]
  },
  {
   "cell_type": "markdown",
   "metadata": {},
   "source": [
    "### Project Conclusion:\n",
    "\n",
    "In this project, we developed a model to predict hourly taxi orders at airports using historical data, with the goal of achieving an RMSE below 48. The data was resampled by hour and explored for trends and seasonality. Several models were trained and tuned, including Linear Regression, Random Forest, LightGBM, CatBoost, and Gradient Boosting.\n",
    "\n",
    "While individual models performed well, none initially met the RMSE threshold. To improve performance, we created an ensemble model combining predictions from LightGBM, CatBoost, and Gradient Boosting using weighted averaging. This ensemble achieved a final test RMSE of 46.30, successfully meeting the project requirement.\n",
    "\n",
    "The project demonstrates the value of advanced model tuning and ensemble methods in time series forecasting tasks. The final model is well-suited for deployment to help Sweet Lift Taxi optimize driver availability during peak demand."
   ]
  },
  {
   "cell_type": "markdown",
   "metadata": {},
   "source": [
    "<div style=\"border: 5px solid green; padding: 10px; margin: 5px\">\n",
    "<b>   Reviewer's comment 4 </b>\n",
    "    \n",
    "    \n",
    "Good results! \n",
    "\n",
    "</div>"
   ]
  },
  {
   "cell_type": "markdown",
   "metadata": {},
   "source": [
    "<div style=\"border: 5px solid green; padding: 15px; margin: 5px\">\n",
    "<b>   Reviewer's comment </b>\n",
    "    \n",
    "Correct. Working with time series, we should not shuffle the data. \n",
    "    \n",
    "</div>"
   ]
  },
  {
   "cell_type": "markdown",
   "metadata": {},
   "source": [
    "<div style=\"border: 5px solid green; padding: 10px; margin: 5px\">\n",
    "<b>   Reviewer's comment 3 </b>\n",
    "    \n",
    "    \n",
    "Good! \n",
    "\n",
    "</div>\n",
    "\n",
    "<div style=\"border: 5px solid gold; padding: 10px; margin: 5px\">\n",
    "<b>   Reviewer's comment 3 </b>\n",
    "    \n",
    "    \n",
    "However, as I mentioned earlier, we should not use the test subset here. We first need to train all models, then we compare their RMSE on validation subset, choose the best model based on their validation RMSE, and only then we use the test subset, conducting the final test on the test subset using the best model. \n",
    "\n",
    "\n",
    "</div>\n",
    "\n",
    "<div style=\"border: 5px solid red; padding: 15px; margin: 5px\">\n",
    "<b>   Reviewer's comment 2 </b>\n",
    "    \n",
    "Since you split the data intro three subsets below, please move Linear regression to the section below and use training and validation subsets. It will not be fair to compare models trained on different data. The data is different because here and below you split it differently. \n",
    "</div>\n",
    "\n"
   ]
  },
  {
   "cell_type": "markdown",
   "metadata": {},
   "source": [
    "<div style=\"border: 5px solid green; padding: 10px; margin: 5px\">\n",
    "<b>   Reviewer's comment </b>\n",
    "    \n",
    "Linear Regression is a good start, well done! \n",
    "    \n",
    "</div><div style=\"border: 5px solid gold; padding: 10px; margin: 5px\">\n",
    "<b>   Reviewer's comment </b>\n",
    "    \n",
    "\n",
    "    \n",
    "\n",
    "Since you're using Linear Regression, I suggest encoding categorical features such as `day` and `day_of_week` to avoid confusing the model, which might assume that the third day is three times more important than the first one. You will need to do it after you split the data. \n",
    "    \n",
    "    \n",
    "    \n",
    "    \n",
    "Please note that `OneHotEncoder(handle_unknown='ignore')` or `OrdinalEncoder(handle_unknown='use_encoded_value', unknown_value=-1)` are generally more robust than `get_dummies` because they can handle situations where test subset has features that were not available during training. [Difference between OneHotEncoder and get_dummies](https://pythonsimplified.com/difference-between-onehotencoder-and-get_dummies/). \n",
    "    \n",
    "    \n",
    "    \n",
    "For tree-based models, `OrdinalEncoder` is a better choice because of computational cost. For boosting algorithms, we can rely on internal encoders that usually perform even better than external ones. For `CatBoost`, this is controlled by the `cat_features` parameter. For `LightGBM`, you can convert categorical features to the category type, allowing the model to handle them automatically.\n",
    "    \n",
    "    \n",
    "By the way, `OrdinalEncoder()` should not be used with linear models if there's no ordinal relationship. [How and When to Use Ordinal Encoder](https://leochoi146.medium.com/how-and-when-to-use-ordinal-encoder-d8b0ef90c28c).\n",
    "\n",
    "\n",
    " </div>\n",
    "\n",
    "\n",
    "<div style=\"border: 5px solid red; padding: 15px; margin: 5px\">\n",
    "<b>   Reviewer's comment </b>\n",
    "    \n",
    "- Please make sure you save one subset for the final test. For this purpose, please estimate RMSE on the training data or introduce the third subset. \n",
    "\n",
    "\n",
    "\n",
    "- Please use at least one more algorithm apart from the Linear regression.\n",
    "\n",
    "\n",
    "\n",
    "- Please try to implement hyperparameter tuning for at least one of the models. For this purpose, we either need to split data into three subsets or use cross-validation. If you choose the second option, please do not forget about the correct order in the data. In order to use the `GridSearchCV` method correctly, we have to employ the `TimeSeriesSplit` class, a cross-validator for time series.  \n",
    "\n",
    "    \n",
    "- After you train and tune models, please compare them and choose the best one, the one with the lowest training/validation RMSE. Use this model to make predictions on the test subset and calculate RMSE. It must be lower than 48.\n",
    "\n",
    "\n",
    "</div>"
   ]
  },
  {
   "cell_type": "raw",
   "metadata": {},
   "source": [
    "# Train/validation/test split (80%/10%/10%)\n",
    "train_size = int(len(df) * 0.8)\n",
    "val_size = int(len(df) * 0.1)\n",
    "\n",
    "train = df.iloc[:train_size]\n",
    "val = df.iloc[train_size:train_size + val_size]\n",
    "test = df.iloc[train_size + val_size:]\n"
   ]
  },
  {
   "cell_type": "markdown",
   "metadata": {},
   "source": [
    "<div style=\"border: 5px solid gold; padding: 10px; margin: 5px\">\n",
    "<b>   Reviewer's comment 3 </b>\n",
    "    \n",
    "    \n",
    "You don't need to split it again :) Please try to avoid code repetition, it will significantly improve your portfolio projects :)  \n",
    "</div>"
   ]
  },
  {
   "cell_type": "markdown",
   "metadata": {},
   "source": [
    "<div style=\"border: 5px solid green; padding: 15px; margin: 5px\">\n",
    "<b>   Reviewer's comment 2 </b>\n",
    "    \n",
    "Good! If we have three subsets, we can easily save one for the final test. \n",
    "\n",
    "</div>\n",
    "\n"
   ]
  },
  {
   "cell_type": "raw",
   "metadata": {},
   "source": [
    "from sklearn.ensemble import RandomForestRegressor\n",
    "\n",
    "rf = RandomForestRegressor(random_state=42)\n",
    "rf.fit(train.drop('num_orders', axis=1), train['num_orders'])\n",
    "val_preds_rf = rf.predict(val.drop('num_orders', axis=1))\n",
    "\n",
    "rmse_rf = sqrt(mean_squared_error(val['num_orders'], val_preds_rf))\n",
    "print(f'Random Forest RMSE (validation): {rmse_rf:.2f}')"
   ]
  },
  {
   "cell_type": "raw",
   "metadata": {},
   "source": [
    "from sklearn.ensemble import RandomForestRegressor\n",
    "from sklearn.model_selection import GridSearchCV, TimeSeriesSplit\n",
    "\n",
    "tscv = TimeSeriesSplit(n_splits=5)\n",
    "lgb = LGBMRegressor(random_state=42)\n",
    "params = {\n",
    "    'n_estimators': [100, 200],\n",
    "    'max_depth': [5, 10, -1],\n",
    "    'learning_rate': [0.1, 0.05],\n",
    "    'num_leaves': [31, 50]\n",
    "}\n",
    "rf = RandomForestRegressor(random_state=42)\n",
    "grid_search = GridSearchCV(rf, param_grid, cv=tscv, scoring='neg_root_mean_squared_error', n_jobs=-1)\n",
    "grid_search.fit(X_train, y_train)\n",
    "\n",
    "best_rf = grid_search.best_estimator_\n",
    "y_pred_val_rf = best_rf.predict(X_valid)\n",
    "rmse_rf_val = sqrt(mean_squared_error(y_valid, y_pred_val_rf))\n",
    "print(f\"Tuned Random Forest RMSE (Validation): {rmse_rf_val:.2f}\")\n"
   ]
  },
  {
   "cell_type": "markdown",
   "metadata": {},
   "source": [
    "<div style=\"border: 5px solid green; padding: 10px; margin: 5px\">\n",
    "<b>   Reviewer's comment 3 </b>\n",
    "    \n",
    "    \n",
    "Correct! \n",
    "</div>"
   ]
  },
  {
   "cell_type": "raw",
   "metadata": {},
   "source": [
    "from lightgbm import LGBMRegressor\n",
    "\n",
    "lgb = LGBMRegressor(random_state=42)\n",
    "\n",
    "\n",
    "params = {\n",
    "    'n_estimators': [200, 350, 500],\n",
    "    'max_depth': [5, 10, 15, -1],\n",
    "    'learning_rate': [0.1, 0.05, 0.01],\n",
    "    'num_leaves': [31, 50, 70],\n",
    "    'min_child_samples': [20, 30],\n",
    "    'subsample': [0.8, 1.0]\n",
    "}\n",
    "\n",
    "grid_search_lgb = GridSearchCV(lgb, params, cv=tscv, scoring='neg_root_mean_squared_error', n_jobs=-1)\n",
    "grid_search_lgb.fit(X_train, y_train)\n",
    "\n",
    "best_lgb = grid_search_lgb.best_estimator_\n",
    "y_pred_val_lgb = best_lgb.predict(X_valid)\n",
    "rmse_lgb_val = sqrt(mean_squared_error(y_valid, y_pred_val_lgb))\n",
    "print(f\"Tuned LightGBM RMSE (Validation): {rmse_lgb_val:.2f}\")"
   ]
  },
  {
   "cell_type": "markdown",
   "metadata": {},
   "source": [
    "<div style=\"border: 5px solid green; padding: 15px; margin: 5px\">\n",
    "<b>   Reviewer's comment 2 </b>\n",
    "    \n",
    "You have successfully implemented hyperparameters tuning, well done! \n",
    "    \n",
    "</div>"
   ]
  },
  {
   "cell_type": "markdown",
   "metadata": {},
   "source": [
    "<div style=\"border: 5px solid red; padding: 10px; margin: 5px\">\n",
    "<b>   Reviewer's comment 2</b>\n",
    "\n",
    "    \n",
    "When you move Linear Regression to this section and estimate its RMSE on the validation data, please compare it with the Forest RMSE and choose the best model. I leave this comment because it is possible that Linear Regression will perform better. Use the best model to run the final test below. \n",
    "\n",
    "\n",
    "</div>"
   ]
  },
  {
   "cell_type": "raw",
   "metadata": {},
   "source": [
    "print(f'Linear Regression RMSE (Validation): {rmse_lr:.2f}')\n",
    "print(f'Linear Regression RMSE (Test): {final_rmse:.2f}')\n",
    "print(f\"Tuned Random Forest RMSE (Validation): {rmse_rf_val:.2f}\")\n",
    "print(f\"Tuned LightGBM RMSE (Validation): {rmse_lgb_val:.2f}\")"
   ]
  },
  {
   "cell_type": "raw",
   "metadata": {},
   "source": [
    "from sklearn.metrics import mean_squared_error\n",
    "from math import sqrt\n",
    "\n",
    "y_test_pred = best_lgb.predict(X_test)\n",
    "final_rmse = sqrt(mean_squared_error(y_test, y_test_pred))\n",
    "print(f\"LightGBM Final Test RMSE: {final_rmse:.2f}\")"
   ]
  },
  {
   "cell_type": "markdown",
   "metadata": {},
   "source": [
    "<div style=\"border: 5px solid green; padding: 10px; margin: 5px\">\n",
    "<b>   Reviewer's comment 3 </b>\n",
    "    \n",
    "    \n",
    "Great! So the best model is LightGBM RMSE.\n",
    "</div>\n",
    "<div style=\"border: 5px solid red; padding: 10px; margin: 5px\">\n",
    "<b>   Reviewer's comment 3 </b>\n",
    "    \n",
    "    \n",
    "Now, we need to use this model and run it on the test subset. Then we need to make predictions using the test subset. With this approach, we will see how the best model performs on the data it does not know. And this is exactly where we need to meet the project's requirement (RMSE of no more than 48).\n",
    "\n",
    "\n",
    "\n",
    "\n",
    "<hr>\n",
    "\n",
    "Let's summarize. The test subset (usually called hold-out subset) that is saved for the final test is used for an objective evaluation of the model's quality after training and hyperparameter tuning. The test subset contains data that was not used during either the model's training or hyperparameter tuning. This allows us to assess how well the model can perform on new, previously unseen data. When tuning hyperparameters on the validation or test subset, it is possible to accidentally overfit the model to this set. By keeping the test subset isolated from this process, we can ensure that the model has not been overfitted.\n",
    "\n",
    "    \n",
    "It is important to select the best model based on metrics obtained from the validation subset. This is because we often deal with huge datasets and heavy models, making it computationally expensive to run every model we trained on the hold-out test subset. Moreover, in real-world tasks, we often evaluate our models on real-time data that could not have been known during the model's training process. By reserving the test set for a final evaluation, we simulate this situation. This is why it is crucial not to use the test subset during the training process.\n",
    "\n",
    "\n",
    "We also don't use all models here because even just checking their performance influences our choices. This leads to test set leakage when we unconsciously start picking models that perform well on the test set, making it part of the training loop. In real-world scenarios, the test set is meant to reflect how the final model performs in the wild. In practice, you only deploy one model, not several models, so testing just that final one mirrors reality. Moreover, evaluating every tuned model on the test set (especially with big models or datasets) is expensive and time-consuming.  </div>"
   ]
  },
  {
   "cell_type": "markdown",
   "metadata": {},
   "source": [
    "<div style=\"border: 5px solid red; padding: 10px; margin: 5px\">\n",
    "<b>   Reviewer's comment 2</b>\n",
    "\n",
    "    \n",
    "In order to meet the project's requirements, we have to achieve RMSE of no more than 48. Try to tune more hyperparameters and try different models in the previous section. \n",
    "\n",
    "</div>"
   ]
  },
  {
   "cell_type": "markdown",
   "metadata": {},
   "source": [
    "<div style=\"border: 5px solid green; padding: 10px; margin: 5px\">\n",
    "<b>   Reviewer's comment </b>\n",
    "    \n",
    "\n",
    "    \n",
    "It's great that you visualize the results! \n",
    "    \n",
    "</div><div style=\"border: 5px solid red; padding: 10px; margin: 5px\">\n",
    "<b>   Reviewer's comment </b>\n",
    "\n",
    "    \n",
    "What can we conclude here? \n",
    "\n",
    "</div>\n",
    "<div style=\"border: 5px solid gold; padding: 10px; margin: 5px\">\n",
    "<b>   Reviewer's comment </b>\n",
    "    \n",
    "\n",
    "You can compare the results with a constant model. For instance, you can take [DummyRegressor](https://scikit-learn.org/stable/modules/generated/sklearn.dummy.DummyRegressor.html). \n",
    "\n",
    "</div>"
   ]
  },
  {
   "cell_type": "markdown",
   "metadata": {},
   "source": [
    "<div style=\"border: 5px solid green; padding: 10px; margin: 5px\">\n",
    "<b>   Reviewer's comment 2 </b>\n",
    "\n",
    "    \n",
    "The conclusion is written well.    \n",
    "</div>    \n",
    " \n",
    "<div style=\"border: 5px solid red; padding: 10px; margin: 5px\">\n",
    "<b>   Reviewer's comment 2</b>\n",
    "    \n",
    "> The final model selected had an RMSE on the test set that met the project requirement — lower than 48\n",
    "\n",
    "Did it? According to the results, it did not. \n",
    "</div>"
   ]
  },
  {
   "cell_type": "markdown",
   "metadata": {},
   "source": [
    "<div style=\"border: 5px solid red; padding: 10px; margin: 5px\">\n",
    "<b>   Reviewer's comment </b>\n",
    "\n",
    "    \n",
    "You have successfully outlined key results (what has been done). What can be inferred from these results? \n",
    "\n",
    "</div>"
   ]
  },
  {
   "cell_type": "code",
   "execution_count": null,
   "metadata": {},
   "outputs": [],
   "source": []
  },
  {
   "cell_type": "markdown",
   "metadata": {},
   "source": [
    "# Review checklist"
   ]
  },
  {
   "cell_type": "markdown",
   "metadata": {},
   "source": [
    "- [x]  Jupyter Notebook is open\n",
    "- [ ]  The code is error-free\n",
    "- [ ]  The cells with the code have been arranged in order of execution\n",
    "- [ ]  The data has been downloaded and prepared\n",
    "- [ ]  The data has been analyzed\n",
    "- [ ]  The model has been trained and hyperparameters have been selected\n",
    "- [ ]  The models have been evaluated. Conclusion has been provided\n",
    "- [ ] *RMSE* for the test set is not more than 48"
   ]
  }
 ],
 "metadata": {
  "kernelspec": {
   "display_name": "Python 3 (ipykernel)",
   "language": "python",
   "name": "python3"
  },
  "language_info": {
   "codemirror_mode": {
    "name": "ipython",
    "version": 3
   },
   "file_extension": ".py",
   "mimetype": "text/x-python",
   "name": "python",
   "nbconvert_exporter": "python",
   "pygments_lexer": "ipython3",
   "version": "3.9.22"
  }
 },
 "nbformat": 4,
 "nbformat_minor": 4
}
